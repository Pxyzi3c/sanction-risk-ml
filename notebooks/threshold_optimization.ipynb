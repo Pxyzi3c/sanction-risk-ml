{
 "cells": [
  {
   "cell_type": "markdown",
   "id": "7b862365",
   "metadata": {},
   "source": [
    "# Phase 5: Threshold Optimization\n",
    "**Objective:**\\n\n",
    "Optimize the decision threshold for the **_final classification model (XGBoost)_** to:\n",
    "* Maximize recall or precision depending on risk telerance\n",
    "* Reduce **_false positives_** without missing true risks\n",
    "* Serve **_as a tuning guide for compliance officers_** using the API or Power BI"
   ]
  },
  {
   "cell_type": "code",
   "execution_count": null,
   "id": "12bd62ea",
   "metadata": {},
   "outputs": [],
   "source": [
    "import pandas as pd\n",
    "import matplotlib.pyplot as plt\n",
    "import numpy as np\n",
    "import joblib\n",
    "from sklearn.metrics import precision_recall_curve, roc_curve\n",
    "\n",
    "# Load saved model\n",
    "model = joblib.load(\"../models/xgb_sanction_model.pkl\")\n",
    "\n",
    "# Load prepared test data\n",
    "df = pd.read_csv(\"../data/sanctions_features.csv\")\n",
    "df = df[df[\"fuzz_ratio_reference\"].notna()].copy()\n",
    "df[\"is_match\"] = ((df[\"fuzz_ratio\"] > 50) | (df[\"common_token_count\"] > 0)).astype(int)\n",
    "\n",
    "X = df.drop([\"is_match\", \"cleaned_name\", \"fuzz_ratio_reference\"])\n",
    "y = df[\"is_match\"]\n",
    "\n",
    "from sklearn.model_selection import train_test_split\n",
    "X_train, X_test, y_train, y_test = train_test_split(\n",
    "    X, y, stratify=y, test_size=0.2, random_state=42\n",
    ")\n",
    "\n",
    "y_scores = model.predict_proba(X_test)[:, 1]"
   ]
  },
  {
   "cell_type": "markdown",
   "id": "e62dd808",
   "metadata": {},
   "source": [
    "### Plot precision-recall and F1 vs Threshold"
   ]
  }
 ],
 "metadata": {
  "kernelspec": {
   "display_name": "venv",
   "language": "python",
   "name": "python3"
  },
  "language_info": {
   "name": "python",
   "version": "3.12.1"
  }
 },
 "nbformat": 4,
 "nbformat_minor": 5
}
