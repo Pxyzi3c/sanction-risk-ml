{
 "cells": [
  {
   "cell_type": "code",
   "execution_count": 17,
   "id": "32debaf9",
   "metadata": {},
   "outputs": [],
   "source": [
    "import os\n",
    "import sys\n",
    "import pandas as pd\n",
    "import matplotlib.pyplot as plt\n",
    "import seaborn as sns\n",
    "\n",
    "sys.path.append(os.path.abspath(\"..\"))\n",
    "\n",
    "from utils.db import fetch_sanctions"
   ]
  },
  {
   "cell_type": "code",
   "execution_count": null,
   "id": "1a8a6220",
   "metadata": {},
   "outputs": [],
   "source": [
    "df = fetch_sanctions()\n",
    "df.head()"
   ]
  },
  {
   "cell_type": "code",
   "execution_count": null,
   "id": "30a5a9f7",
   "metadata": {},
   "outputs": [],
   "source": [
    "df.info()\n",
    "df.describe(include=\"all\")\n",
    "df.isnull().sum()"
   ]
  },
  {
   "cell_type": "code",
   "execution_count": null,
   "id": "c51cda4b",
   "metadata": {},
   "outputs": [],
   "source": [
    "# Sanity check for uniqueness\n",
    "df['ent_num'].nunique(), df.duplicated().sum()"
   ]
  },
  {
   "cell_type": "code",
   "execution_count": null,
   "id": "6245e08e",
   "metadata": {},
   "outputs": [],
   "source": [
    "sns.countplot(data=df, y='country', order=df['country'].value_counts().head(10).index)\n",
    "plt.title(\"Top 10 Countries in Sactions List\")\n",
    "plt.show()"
   ]
  },
  {
   "cell_type": "code",
   "execution_count": null,
   "id": "10095297",
   "metadata": {},
   "outputs": [],
   "source": [
    "df['sdn_type'].value_counts().plot(kind='barh', title=\"SDN Types Distribution\")"
   ]
  },
  {
   "cell_type": "code",
   "execution_count": 49,
   "id": "3c9be6e6",
   "metadata": {},
   "outputs": [],
   "source": [
    "import re\n",
    "\n",
    "def standardize_name(name: str) -> str:\n",
    "    if pd.isnull(name):\n",
    "        return ''\n",
    "    name = re.sub(r\"[/-]\", \" \", name).upper()\n",
    "    name = re.sub(r\"[^A-Z\\s]\", \"\", name)\n",
    "    name = re.sub(r\"\\s+\", \" \", name).strip()\n",
    "    return name\n",
    "\n",
    "df['cleaned_name'] = df['sdn_name'].apply(standardize_name)"
   ]
  },
  {
   "cell_type": "code",
   "execution_count": null,
   "id": "bdcfb080",
   "metadata": {},
   "outputs": [],
   "source": [
    "df['name_length'] = df['cleaned_name'].str.len()\n",
    "df['word_count'] = df['cleaned_name'].str.split().apply(len)\n",
    "df['has_country_in_name'] = df.apply(\n",
    "    lambda row: 1 if row['country'] and row['country'].upper() in row['cleaned_name'] else 0,\n",
    "    axis=1\n",
    ")\n",
    "\n",
    "df.head(10)"
   ]
  },
  {
   "cell_type": "code",
   "execution_count": 54,
   "id": "452d1ef6",
   "metadata": {},
   "outputs": [],
   "source": [
    "df.to_csv('../data/sanctions_cleaned.csv', index=False)"
   ]
  }
 ],
 "metadata": {
  "kernelspec": {
   "display_name": "venv",
   "language": "python",
   "name": "python3"
  },
  "language_info": {
   "codemirror_mode": {
    "name": "ipython",
    "version": 3
   },
   "file_extension": ".py",
   "mimetype": "text/x-python",
   "name": "python",
   "nbconvert_exporter": "python",
   "pygments_lexer": "ipython3",
   "version": "3.12.1"
  }
 },
 "nbformat": 4,
 "nbformat_minor": 5
}
