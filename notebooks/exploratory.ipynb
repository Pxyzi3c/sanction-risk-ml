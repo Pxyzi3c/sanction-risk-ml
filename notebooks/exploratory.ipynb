{
 "cells": [
  {
   "cell_type": "code",
   "execution_count": 3,
   "id": "32debaf9",
   "metadata": {},
   "outputs": [],
   "source": [
    "import re\n",
    "import os\n",
    "import sys\n",
    "import pandas as pd\n",
    "import matplotlib.pyplot as plt\n",
    "import seaborn as sns\n",
    "from rapidfuzz import fuzz\n",
    "import numpy as np\n",
    "\n",
    "sys.path.append(os.path.abspath(\"..\"))\n",
    "\n",
    "from utils.db import fetch_sanctions"
   ]
  },
  {
   "cell_type": "code",
   "execution_count": null,
   "id": "1a8a6220",
   "metadata": {},
   "outputs": [],
   "source": [
    "df = fetch_sanctions()\n",
    "df.head()"
   ]
  },
  {
   "cell_type": "code",
   "execution_count": null,
   "id": "30a5a9f7",
   "metadata": {},
   "outputs": [],
   "source": [
    "# Data Overview\n",
    "\n",
    "df.info()\n",
    "df.describe(include=\"all\")\n",
    "df.isnull().sum()"
   ]
  },
  {
   "cell_type": "code",
   "execution_count": null,
   "id": "c51cda4b",
   "metadata": {},
   "outputs": [],
   "source": [
    "# Sanity check for uniqueness\n",
    "df['ent_num'].nunique(), df.duplicated().sum()"
   ]
  },
  {
   "cell_type": "code",
   "execution_count": null,
   "id": "6245e08e",
   "metadata": {},
   "outputs": [],
   "source": [
    "# Data Distribution (Exploratory Visuals)\n",
    "\n",
    "sns.countplot(data=df, y='country', order=df['country'].value_counts().head(10).index)\n",
    "plt.title(\"Top 10 Countries in Sactions List\")\n",
    "plt.show()"
   ]
  },
  {
   "cell_type": "code",
   "execution_count": null,
   "id": "10095297",
   "metadata": {},
   "outputs": [],
   "source": [
    "df['sdn_type'].value_counts().plot(kind='barh', title=\"SDN Types Distribution\")"
   ]
  },
  {
   "cell_type": "code",
   "execution_count": null,
   "id": "3c9be6e6",
   "metadata": {},
   "outputs": [],
   "source": [
    "# Data Cleaning\n",
    "\n",
    "def standardize_name(name: str) -> str:\n",
    "    if pd.isnull(name):\n",
    "        return ''\n",
    "    name = re.sub(r\"[/-]\", \" \", name).upper()\n",
    "    name = re.sub(r\"[^A-Z\\s]\", \"\", name)\n",
    "    name = re.sub(r\"\\s+\", \" \", name).strip()\n",
    "    return name\n",
    "\n",
    "df['cleaned_name'] = df['sdn_name'].apply(standardize_name)\n",
    "\n",
    "df.head(10)"
   ]
  },
  {
   "cell_type": "code",
   "execution_count": null,
   "id": "4508d905",
   "metadata": {},
   "outputs": [],
   "source": [
    "df.to_csv('../data/sanctions_cleaned.csv', index=False)"
   ]
  },
  {
   "cell_type": "code",
   "execution_count": 29,
   "id": "bdcfb080",
   "metadata": {},
   "outputs": [],
   "source": [
    "# Feature Engineering\n",
    "\n",
    "def get_fuzz_ratio(name1: str, name2: str) -> float:\n",
    "    name1 = \" \".join(sorted(name1.split()))\n",
    "    name2 = \" \".join(sorted(name2.split()))\n",
    "\n",
    "    try:\n",
    "        return round(fuzz.ratio(name1, name2), 2)\n",
    "    except:\n",
    "        return 0\n",
    "\n",
    "def get_length_difference(name1: str, name2: str) -> int:\n",
    "    return abs(len(name1) - len(name2))\n",
    "\n",
    "def get_common_token_count(name1: str, name2: str) -> int:\n",
    "    return len(set(name1.split()) & set(name2.split()))\n",
    "    \n",
    "df['name_length'] = df['cleaned_name'].str.len()\n",
    "df['word_count'] = df['cleaned_name'].str.split().apply(len)\n",
    "df['has_country_in_name'] = df.apply(\n",
    "    lambda row: 1 if row['country'] and row['country'].upper() in row['cleaned_name'] else 0,\n",
    "    axis=1\n",
    ")\n",
    "\n",
    "# Text similarity features\n",
    "reference_name = standardize_name(\"AEROCARIBBEAN AIRLINES\")\n",
    "df['fuzz_ratio_reference'] = reference_name\n",
    "df['fuzz_ratio'] = df['cleaned_name'].apply(lambda x: get_fuzz_ratio(x, reference_name))\n",
    "df['length_diff'] = df['cleaned_name'].apply(lambda x: get_length_difference(x, reference_name))\n",
    "df['common_token_count'] = df['cleaned_name'].apply(lambda x: get_common_token_count(x, reference_name))"
   ]
  },
  {
   "cell_type": "code",
   "execution_count": null,
   "id": "79efcc92",
   "metadata": {},
   "outputs": [],
   "source": [
    "plt.figure(figsize=(10, 6))\n",
    "sns.heatmap(df.corr(numeric_only=True), annot=True, cmap=\"coolwarm\")\n",
    "plt.title(\"Feature Correlation Heatmap\")\n",
    "plt.tight_layout()\n",
    "plt.show()"
   ]
  },
  {
   "cell_type": "code",
   "execution_count": 45,
   "id": "452d1ef6",
   "metadata": {},
   "outputs": [],
   "source": [
    "final_features = [\n",
    "    'ent_num',\n",
    "    'name_length',\n",
    "    'word_count',\n",
    "    'has_country_in_name',\n",
    "    'fuzz_ratio_reference',\n",
    "    'fuzz_ratio',\n",
    "    'length_diff',\n",
    "    'common_token_count'\n",
    "]\n",
    "\n",
    "df[final_features].to_csv('../data/sanctions_features.csv', index=False)"
   ]
  }
 ],
 "metadata": {
  "kernelspec": {
   "display_name": "venv",
   "language": "python",
   "name": "python3"
  },
  "language_info": {
   "codemirror_mode": {
    "name": "ipython",
    "version": 3
   },
   "file_extension": ".py",
   "mimetype": "text/x-python",
   "name": "python",
   "nbconvert_exporter": "python",
   "pygments_lexer": "ipython3",
   "version": "3.12.1"
  }
 },
 "nbformat": 4,
 "nbformat_minor": 5
}
