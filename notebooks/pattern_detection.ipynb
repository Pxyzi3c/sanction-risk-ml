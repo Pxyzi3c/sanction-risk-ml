{
 "cells": [
  {
   "cell_type": "markdown",
   "id": "3c58245f",
   "metadata": {},
   "source": [
    "# Phase 6: Proactive Pattern Detection\n",
    ">_(Part of the Data Science lifecycle for uncovering high-risk clusters & anomalies)_\n",
    "\n",
    "#### **Objective:**\n",
    "Use **unsupervised learning** techniques to surface _hidden structure_, such as:\n",
    "* **Alias clusters** (e.g. same entity across alt names)\n",
    "* **Outlier behavior** (e.g. odd country associations)\n",
    "* **Potential identity masking** strategies\n",
    "#### **Signifance:**\n",
    "- Extend the model's reach from point-wise prediction to group-wise and behavioral detection - this is what powers **early warning systems** and **entity resolution pipelines** in financial compliance systems."
   ]
  },
  {
   "cell_type": "code",
   "execution_count": 76,
   "id": "40277631",
   "metadata": {},
   "outputs": [],
   "source": [
    "import pandas as pd\n",
    "import numpy as np\n",
    "import matplotlib.pyplot as plt\n",
    "import seaborn as sns\n",
    "\n",
    "from sklearn.preprocessing import StandardScaler\n",
    "from sklearn.cluster import DBSCAN\n",
    "from sklearn.ensemble import IsolationForest\n",
    "from sklearn.decomposition import PCA"
   ]
  },
  {
   "cell_type": "markdown",
   "id": "52c0f5fb",
   "metadata": {},
   "source": [
    "#### **Load & Prepare Features:**"
   ]
  },
  {
   "cell_type": "code",
   "execution_count": 77,
   "id": "37d95f6d",
   "metadata": {},
   "outputs": [
    {
     "name": "stdout",
     "output_type": "stream",
     "text": [
      "       ent_num            cleaned_name fuzz_ratio_reference  name_length  \\\n",
      "0           36  AEROCARIBBEAN AIRLINES             AIRLINES           22   \n",
      "5455     10143        BUTEMBO AIRLINES             AIRLINES           16   \n",
      "5456     10143        BUTEMBO AIRLINES             AIRLINES           16   \n",
      "16095    13440    SYRIAN ARAB AIRLINES             AIRLINES           20   \n",
      "16096    13440    SYRIAN ARAB AIRLINES             AIRLINES           20   \n",
      "16097    13440    SYRIAN ARAB AIRLINES             AIRLINES           20   \n",
      "16098    13440    SYRIAN ARAB AIRLINES             AIRLINES           20   \n",
      "19606    17226        CASPIAN AIRLINES             AIRLINES           16   \n",
      "19607    17226        CASPIAN AIRLINES             AIRLINES           16   \n",
      "20125    18133       AL NASER AIRLINES             AIRLINES           17   \n",
      "20199    18133       AL NASER AIRLINES             AIRLINES           17   \n",
      "20200    18133       AL NASER AIRLINES             AIRLINES           17   \n",
      "20201    18133       AL NASER AIRLINES             AIRLINES           17   \n",
      "20202    18133       AL NASER AIRLINES             AIRLINES           17   \n",
      "20203    18133       AL NASER AIRLINES             AIRLINES           17   \n",
      "20204    18133       AL NASER AIRLINES             AIRLINES           17   \n",
      "20205    18133       AL NASER AIRLINES             AIRLINES           17   \n",
      "20206    18133       AL NASER AIRLINES             AIRLINES           17   \n",
      "23585    21244     CHAM WINGS AIRLINES             AIRLINES           19   \n",
      "23586    21244     CHAM WINGS AIRLINES             AIRLINES           19   \n",
      "23587    21244     CHAM WINGS AIRLINES             AIRLINES           19   \n",
      "23588    21244     CHAM WINGS AIRLINES             AIRLINES           19   \n",
      "23589    21244     CHAM WINGS AIRLINES             AIRLINES           19   \n",
      "23590    21244     CHAM WINGS AIRLINES             AIRLINES           19   \n",
      "23591    21244     CHAM WINGS AIRLINES             AIRLINES           19   \n",
      "23592    21244     CHAM WINGS AIRLINES             AIRLINES           19   \n",
      "23593    21244     CHAM WINGS AIRLINES             AIRLINES           19   \n",
      "23594    21244     CHAM WINGS AIRLINES             AIRLINES           19   \n",
      "23595    21244     CHAM WINGS AIRLINES             AIRLINES           19   \n",
      "23596    21244     CHAM WINGS AIRLINES             AIRLINES           19   \n",
      "23597    21244     CHAM WINGS AIRLINES             AIRLINES           19   \n",
      "23598    21244     CHAM WINGS AIRLINES             AIRLINES           19   \n",
      "23599    21244     CHAM WINGS AIRLINES             AIRLINES           19   \n",
      "23600    21244     CHAM WINGS AIRLINES             AIRLINES           19   \n",
      "23601    21244     CHAM WINGS AIRLINES             AIRLINES           19   \n",
      "23602    21244     CHAM WINGS AIRLINES             AIRLINES           19   \n",
      "23603    21244     CHAM WINGS AIRLINES             AIRLINES           19   \n",
      "23604    21244     CHAM WINGS AIRLINES             AIRLINES           19   \n",
      "24800    22945           DART AIRLINES             AIRLINES           13   \n",
      "24801    22945           DART AIRLINES             AIRLINES           13   \n",
      "24802    22945           DART AIRLINES             AIRLINES           13   \n",
      "24803    22945           DART AIRLINES             AIRLINES           13   \n",
      "24804    22945           DART AIRLINES             AIRLINES           13   \n",
      "24805    22945           DART AIRLINES             AIRLINES           13   \n",
      "24806    22945           DART AIRLINES             AIRLINES           13   \n",
      "24807    22945           DART AIRLINES             AIRLINES           13   \n",
      "24808    22945           DART AIRLINES             AIRLINES           13   \n",
      "24809    22945           DART AIRLINES             AIRLINES           13   \n",
      "24810    22945           DART AIRLINES             AIRLINES           13   \n",
      "24811    22945           DART AIRLINES             AIRLINES           13   \n",
      "44569    48388    S GROUP AIRLINES LTD             AIRLINES           20   \n",
      "\n",
      "       word_count  has_country_in_name  fuzz_ratio  length_diff  \\\n",
      "0               2                    0       53.33           14   \n",
      "5455            2                    0       66.67            8   \n",
      "5456            2                    0       66.67            8   \n",
      "16095           3                    1       57.14           12   \n",
      "16096           3                    1       57.14           12   \n",
      "16097           3                    1       57.14           12   \n",
      "16098           3                    1       57.14           12   \n",
      "19606           2                    0       66.67            8   \n",
      "19607           2                    0       66.67            8   \n",
      "20125           3                    0       64.00            9   \n",
      "20199           3                    0       64.00            9   \n",
      "20200           3                    0       64.00            9   \n",
      "20201           3                    0       64.00            9   \n",
      "20202           3                    0       64.00            9   \n",
      "20203           3                    0       64.00            9   \n",
      "20204           3                    0       64.00            9   \n",
      "20205           3                    0       64.00            9   \n",
      "20206           3                    0       64.00            9   \n",
      "23585           3                    0       59.26           11   \n",
      "23586           3                    0       59.26           11   \n",
      "23587           3                    0       59.26           11   \n",
      "23588           3                    0       59.26           11   \n",
      "23589           3                    0       59.26           11   \n",
      "23590           3                    0       59.26           11   \n",
      "23591           3                    0       59.26           11   \n",
      "23592           3                    0       59.26           11   \n",
      "23593           3                    0       59.26           11   \n",
      "23594           3                    0       59.26           11   \n",
      "23595           3                    0       59.26           11   \n",
      "23596           3                    0       59.26           11   \n",
      "23597           3                    0       59.26           11   \n",
      "23598           3                    0       59.26           11   \n",
      "23599           3                    0       59.26           11   \n",
      "23600           3                    0       59.26           11   \n",
      "23601           3                    0       59.26           11   \n",
      "23602           3                    0       59.26           11   \n",
      "23603           3                    0       59.26           11   \n",
      "23604           3                    0       59.26           11   \n",
      "24800           2                    0       76.19            5   \n",
      "24801           2                    0       76.19            5   \n",
      "24802           2                    0       76.19            5   \n",
      "24803           2                    0       76.19            5   \n",
      "24804           2                    0       76.19            5   \n",
      "24805           2                    0       76.19            5   \n",
      "24806           2                    0       76.19            5   \n",
      "24807           2                    0       76.19            5   \n",
      "24808           2                    0       76.19            5   \n",
      "24809           2                    0       76.19            5   \n",
      "24810           2                    0       76.19            5   \n",
      "24811           2                    0       76.19            5   \n",
      "44569           4                    0       57.14           12   \n",
      "\n",
      "       common_token_count  is_match  \n",
      "0                       1         1  \n",
      "5455                    1         1  \n",
      "5456                    1         1  \n",
      "16095                   1         1  \n",
      "16096                   1         1  \n",
      "16097                   1         1  \n",
      "16098                   1         1  \n",
      "19606                   1         1  \n",
      "19607                   1         1  \n",
      "20125                   1         1  \n",
      "20199                   1         1  \n",
      "20200                   1         1  \n",
      "20201                   1         1  \n",
      "20202                   1         1  \n",
      "20203                   1         1  \n",
      "20204                   1         1  \n",
      "20205                   1         1  \n",
      "20206                   1         1  \n",
      "23585                   1         1  \n",
      "23586                   1         1  \n",
      "23587                   1         1  \n",
      "23588                   1         1  \n",
      "23589                   1         1  \n",
      "23590                   1         1  \n",
      "23591                   1         1  \n",
      "23592                   1         1  \n",
      "23593                   1         1  \n",
      "23594                   1         1  \n",
      "23595                   1         1  \n",
      "23596                   1         1  \n",
      "23597                   1         1  \n",
      "23598                   1         1  \n",
      "23599                   1         1  \n",
      "23600                   1         1  \n",
      "23601                   1         1  \n",
      "23602                   1         1  \n",
      "23603                   1         1  \n",
      "23604                   1         1  \n",
      "24800                   1         1  \n",
      "24801                   1         1  \n",
      "24802                   1         1  \n",
      "24803                   1         1  \n",
      "24804                   1         1  \n",
      "24805                   1         1  \n",
      "24806                   1         1  \n",
      "24807                   1         1  \n",
      "24808                   1         1  \n",
      "24809                   1         1  \n",
      "24810                   1         1  \n",
      "24811                   1         1  \n",
      "44569                   1         1  \n"
     ]
    }
   ],
   "source": [
    "df = pd.read_csv(\"../data/sanctions_features.csv\")\n",
    "df = df[df[\"fuzz_ratio_reference\"].notna()].copy()\n",
    "\n",
    "df[\"is_match\"] = ((df[\"fuzz_ratio\"] > 50) & (df[\"common_token_count\"] > 0)).astype(int)\n",
    "\n",
    "matched_df = df[df[\"is_match\"] == 1].copy()\n",
    "\n",
    "print(matched_df)"
   ]
  },
  {
   "cell_type": "markdown",
   "id": "b8ca6b73",
   "metadata": {},
   "source": [
    "#### **Clustering for Alias Networks (DBSCAN):**\n",
    "\n",
    "Normalize Features"
   ]
  },
  {
   "cell_type": "code",
   "execution_count": 78,
   "id": "ba27cbad",
   "metadata": {},
   "outputs": [],
   "source": [
    "features = [\"length_diff\", \"fuzz_ratio\", \"common_token_count\", \"word_count\"]\n",
    "X = StandardScaler().fit_transform(matched_df[features])"
   ]
  },
  {
   "cell_type": "markdown",
   "id": "15707829",
   "metadata": {},
   "source": [
    "Run DBSCAN"
   ]
  },
  {
   "cell_type": "code",
   "execution_count": 79,
   "id": "1e3e41ad",
   "metadata": {},
   "outputs": [],
   "source": [
    "db = DBSCAN(eps=0.3, min_samples=3).fit(X)\n",
    "matched_df[\"cluster\"] = db.labels_"
   ]
  },
  {
   "cell_type": "markdown",
   "id": "3859d24f",
   "metadata": {},
   "source": [
    "Visualize"
   ]
  },
  {
   "cell_type": "code",
   "execution_count": 80,
   "id": "7e5d8c0c",
   "metadata": {},
   "outputs": [
    {
     "data": {
      "image/png": "[encoded data removed]",
      "text/plain": [
       "<Figure size 1000x600 with 1 Axes>"
      ]
     },
     "metadata": {},
     "output_type": "display_data"
    }
   ],
   "source": [
    "pca = PCA(n_components=2)\n",
    "X_pca = pca.fit_transform(X)\n",
    "\n",
    "plt.figure(figsize=(10, 6))\n",
    "sns.scatterplot(x=X_pca[:, 0], hue=matched_df[\"cluster\"], palette=\"tab10\")\n",
    "plt.title(\"Alias Clusters via DBSCAN\")\n",
    "plt.tight_layout()\n",
    "plt.grid(True)\n",
    "plt.show()"
   ]
  },
  {
   "cell_type": "markdown",
   "id": "00e4a5b3",
   "metadata": {},
   "source": [
    "#### **Outlier Detection (Isolation Forest):**\n",
    "\n",
    "Train & Predict"
   ]
  },
  {
   "cell_type": "code",
   "execution_count": 84,
   "id": "d4dde2fe",
   "metadata": {},
   "outputs": [
    {
     "name": "stdout",
     "output_type": "stream",
     "text": [
      "anomaly\n",
      " 1    50\n",
      "-1     1\n",
      "Name: count, dtype: int64\n"
     ]
    }
   ],
   "source": [
    "anomaly_model = IsolationForest(contamination=0.01, random_state=42)\n",
    "anomaly_scores = anomaly_model.fit_predict(X)\n",
    "\n",
    "matched_df[\"anomaly\"] = anomaly_scores\n",
    "print(matched_df[\"anomaly\"].value_counts())"
   ]
  },
  {
   "cell_type": "markdown",
   "id": "f674e2ad",
   "metadata": {},
   "source": [
    "Export high-risk"
   ]
  },
  {
   "cell_type": "code",
   "execution_count": 82,
   "id": "1bbac701",
   "metadata": {},
   "outputs": [
    {
     "name": "stdout",
     "output_type": "stream",
     "text": [
      "   ent_num            cleaned_name fuzz_ratio_reference  name_length  \\\n",
      "0       36  AEROCARIBBEAN AIRLINES             AIRLINES           22   \n",
      "\n",
      "   word_count  has_country_in_name  fuzz_ratio  length_diff  \\\n",
      "0           2                    0       53.33           14   \n",
      "\n",
      "   common_token_count  is_match  cluster  anomaly  \n",
      "0                   1         1       -1       -1  \n"
     ]
    }
   ],
   "source": [
    "anomalies = matched_df[matched_df[\"anomaly\"] == -1]\n",
    "anomalies[[\"ent_num\", \"fuzz_ratio\", \"length_diff\", \"common_token_count\"]]\n",
    "\n",
    "print(anomalies)"
   ]
  },
  {
   "cell_type": "code",
   "execution_count": null,
   "id": "8be097a1",
   "metadata": {},
   "outputs": [],
   "source": [
    "anomalies.to_csv(\"../data/high_risk_anomalies.csv\", index=False)\n",
    "matched_df.to_csv(\"../data/pattern_detection.csv\", index=False)\n"
   ]
  }
 ],
 "metadata": {
  "kernelspec": {
   "display_name": "venv",
   "language": "python",
   "name": "python3"
  },
  "language_info": {
   "codemirror_mode": {
    "name": "ipython",
    "version": 3
   },
   "file_extension": ".py",
   "mimetype": "text/x-python",
   "name": "python",
   "nbconvert_exporter": "python",
   "pygments_lexer": "ipython3",
   "version": "3.12.1"
  }
 },
 "nbformat": 4,
 "nbformat_minor": 5
}
