{
 "cells": [
  {
   "cell_type": "markdown",
   "id": "3c58245f",
   "metadata": {},
   "source": [
    "# Phase 6: Proactive Pattern Detection\n",
    ">_(Part of the Data Science lifecycle for uncovering high-risk clusters & anomalies)_\n",
    "\n",
    "#### **Objective:**\n",
    "Use **unsupervised learning** techniques to surface _hidden structure_, such as:\n",
    "* **Alias clusters** (e.g. same entity across alt names)\n",
    "* **Outlier behavior** (e.g. odd country associations)\n",
    "* **Potential identity masking** strategies\n",
    "#### **Signifance:**\n",
    "- Extend the model's reach from point-wise prediction to group-wise and behavioral detection - this is what powers **early warning systems** and **entity resolution pipelines** in financial compliance systems."
   ]
  },
  {
   "cell_type": "code",
   "execution_count": 1,
   "id": "40277631",
   "metadata": {},
   "outputs": [],
   "source": [
    "import pandas as pd\n",
    "import numpy as np\n",
    "import matplotlib.pyplot as plt\n",
    "import seaborn as sns\n",
    "\n",
    "from sklearn.preprocessing import StandardScaler\n",
    "from sklearn.cluster import DBSCAN\n",
    "from sklearn.ensemble import IsolationForest\n",
    "from sklearn.decomposition import PCA"
   ]
  },
  {
   "cell_type": "markdown",
   "id": "52c0f5fb",
   "metadata": {},
   "source": [
    "#### **Load & Prepare Features:**"
   ]
  },
  {
   "cell_type": "code",
   "execution_count": 2,
   "id": "37d95f6d",
   "metadata": {},
   "outputs": [
    {
     "name": "stdout",
     "output_type": "stream",
     "text": [
      "is_match\n",
      "1    4139\n",
      "Name: count, dtype: int64\n"
     ]
    }
   ],
   "source": [
    "df = pd.read_csv(\"../data/sanctions_features.csv\")\n",
    "df = df[df[\"fuzz_ratio_reference\"].notna()].copy()\n",
    "\n",
    "df[\"is_match\"] = ((df[\"fuzz_ratio\"] > 50) & (df[\"common_token_count\"] > 0)).astype(int)\n",
    "\n",
    "matched_df = df[df[\"is_match\"] == 1].copy()\n",
    "\n",
    "print(matched_df[\"is_match\"].value_counts())"
   ]
  },
  {
   "cell_type": "markdown",
   "id": "b8ca6b73",
   "metadata": {},
   "source": [
    "#### **Clustering for Alias Networks (DBSCAN):**\n",
    "\n",
    "Normalize Features"
   ]
  },
  {
   "cell_type": "code",
   "execution_count": 3,
   "id": "ba27cbad",
   "metadata": {},
   "outputs": [],
   "source": [
    "features = [\"length_diff\", \"fuzz_ratio\", \"token_sort_ratio\", \"common_token_count\", \"prefix_match\", \"word_count_1\", \"word_count_2\"]\n",
    "X = StandardScaler().fit_transform(matched_df[features])"
   ]
  },
  {
   "cell_type": "markdown",
   "id": "15707829",
   "metadata": {},
   "source": [
    "Run DBSCAN"
   ]
  },
  {
   "cell_type": "code",
   "execution_count": 4,
   "id": "1e3e41ad",
   "metadata": {},
   "outputs": [],
   "source": [
    "db = DBSCAN(eps=0.3, min_samples=3).fit(X)\n",
    "matched_df[\"cluster\"] = db.labels_"
   ]
  },
  {
   "cell_type": "markdown",
   "id": "3859d24f",
   "metadata": {},
   "source": [
    "Visualize"
   ]
  },
  {
   "cell_type": "code",
   "execution_count": 5,
   "id": "7e5d8c0c",
   "metadata": {},
   "outputs": [
    {
     "data": {
      "image/png": "[encoded data removed]",
      "text/plain": [
       "<Figure size 1000x600 with 1 Axes>"
      ]
     },
     "metadata": {},
     "output_type": "display_data"
    }
   ],
   "source": [
    "pca = PCA(n_components=2)\n",
    "X_pca = pca.fit_transform(X)\n",
    "\n",
    "plt.figure(figsize=(10, 6))\n",
    "sns.scatterplot(x=X_pca[:, 0], hue=matched_df[\"cluster\"], palette=\"tab10\")\n",
    "plt.title(\"Alias Clusters via DBSCAN\")\n",
    "plt.tight_layout()\n",
    "plt.grid(True)\n",
    "plt.show()"
   ]
  },
  {
   "cell_type": "markdown",
   "id": "00e4a5b3",
   "metadata": {},
   "source": [
    "#### **Outlier Detection (Isolation Forest):**\n",
    "\n",
    "Train & Predict"
   ]
  },
  {
   "cell_type": "code",
   "execution_count": 6,
   "id": "d4dde2fe",
   "metadata": {},
   "outputs": [],
   "source": [
    "anomaly_model = IsolationForest(contamination=0.01, random_state=42)\n",
    "anomaly_scores = anomaly_model.fit_predict(X)\n",
    "\n",
    "matched_df[\"anomaly\"] = anomaly_scores\n"
   ]
  },
  {
   "cell_type": "markdown",
   "id": "f674e2ad",
   "metadata": {},
   "source": [
    "Export high-risk"
   ]
  },
  {
   "cell_type": "code",
   "execution_count": 7,
   "id": "1bbac701",
   "metadata": {},
   "outputs": [
    {
     "name": "stdout",
     "output_type": "stream",
     "text": [
      "       ent_num                   cleaned_name fuzz_ratio_reference  \\\n",
      "14866    12605        SECT OF REVOLUTIONARIES   REVIVAL OF SOCIETY   \n",
      "14867    12605        SECT OF REVOLUTIONARIES   REVIVAL OF SOCIETY   \n",
      "14868    12605        SECT OF REVOLUTIONARIES   REVIVAL OF SOCIETY   \n",
      "14869    12605        SECT OF REVOLUTIONARIES   REVIVAL OF SOCIETY   \n",
      "14870    12605        SECT OF REVOLUTIONARIES   REVIVAL OF SOCIETY   \n",
      "14871    12605        SECT OF REVOLUTIONARIES   REVIVAL OF SOCIETY   \n",
      "19719    17269  HILAL AHMAR SOCIETY INDONESIA   REVIVAL OF SOCIETY   \n",
      "19720    17269  HILAL AHMAR SOCIETY INDONESIA   REVIVAL OF SOCIETY   \n",
      "19721    17269  HILAL AHMAR SOCIETY INDONESIA   REVIVAL OF SOCIETY   \n",
      "19722    17269  HILAL AHMAR SOCIETY INDONESIA   REVIVAL OF SOCIETY   \n",
      "19723    17269  HILAL AHMAR SOCIETY INDONESIA   REVIVAL OF SOCIETY   \n",
      "19724    17269  HILAL AHMAR SOCIETY INDONESIA   REVIVAL OF SOCIETY   \n",
      "19725    17269  HILAL AHMAR SOCIETY INDONESIA   REVIVAL OF SOCIETY   \n",
      "19726    17269  HILAL AHMAR SOCIETY INDONESIA   REVIVAL OF SOCIETY   \n",
      "19727    17269  HILAL AHMAR SOCIETY INDONESIA   REVIVAL OF SOCIETY   \n",
      "19728    17269  HILAL AHMAR SOCIETY INDONESIA   REVIVAL OF SOCIETY   \n",
      "19729    17269  HILAL AHMAR SOCIETY INDONESIA   REVIVAL OF SOCIETY   \n",
      "19730    17269  HILAL AHMAR SOCIETY INDONESIA   REVIVAL OF SOCIETY   \n",
      "19731    17269  HILAL AHMAR SOCIETY INDONESIA   REVIVAL OF SOCIETY   \n",
      "19732    17269  HILAL AHMAR SOCIETY INDONESIA   REVIVAL OF SOCIETY   \n",
      "19733    17269  HILAL AHMAR SOCIETY INDONESIA   REVIVAL OF SOCIETY   \n",
      "19734    17269  HILAL AHMAR SOCIETY INDONESIA   REVIVAL OF SOCIETY   \n",
      "19735    17269  HILAL AHMAR SOCIETY INDONESIA   REVIVAL OF SOCIETY   \n",
      "19736    17269  HILAL AHMAR SOCIETY INDONESIA   REVIVAL OF SOCIETY   \n",
      "19737    17269  HILAL AHMAR SOCIETY INDONESIA   REVIVAL OF SOCIETY   \n",
      "19738    17269  HILAL AHMAR SOCIETY INDONESIA   REVIVAL OF SOCIETY   \n",
      "19739    17269  HILAL AHMAR SOCIETY INDONESIA   REVIVAL OF SOCIETY   \n",
      "\n",
      "       prefix_match  word_count_1  word_count_2  fuzz_ratio  token_sort_ratio  \\\n",
      "14866             0             3             3       58.54         58.536585   \n",
      "14867             0             3             3       58.54         58.536585   \n",
      "14868             0             3             3       58.54         58.536585   \n",
      "14869             0             3             3       58.54         58.536585   \n",
      "14870             0             3             3       58.54         58.536585   \n",
      "14871             0             3             3       58.54         58.536585   \n",
      "19719             0             4             3       51.06         51.063830   \n",
      "19720             0             4             3       51.06         51.063830   \n",
      "19721             0             4             3       51.06         51.063830   \n",
      "19722             0             4             3       51.06         51.063830   \n",
      "19723             0             4             3       51.06         51.063830   \n",
      "19724             0             4             3       51.06         51.063830   \n",
      "19725             0             4             3       51.06         51.063830   \n",
      "19726             0             4             3       51.06         51.063830   \n",
      "19727             0             4             3       51.06         51.063830   \n",
      "19728             0             4             3       51.06         51.063830   \n",
      "19729             0             4             3       51.06         51.063830   \n",
      "19730             0             4             3       51.06         51.063830   \n",
      "19731             0             4             3       51.06         51.063830   \n",
      "19732             0             4             3       51.06         51.063830   \n",
      "19733             0             4             3       51.06         51.063830   \n",
      "19734             0             4             3       51.06         51.063830   \n",
      "19735             0             4             3       51.06         51.063830   \n",
      "19736             0             4             3       51.06         51.063830   \n",
      "19737             0             4             3       51.06         51.063830   \n",
      "19738             0             4             3       51.06         51.063830   \n",
      "19739             0             4             3       51.06         51.063830   \n",
      "\n",
      "       length_diff  common_token_count  is_match  cluster  anomaly  \n",
      "14866            5                   1         1        2       -1  \n",
      "14867            5                   1         1        2       -1  \n",
      "14868            5                   1         1        2       -1  \n",
      "14869            5                   1         1        2       -1  \n",
      "14870            5                   1         1        2       -1  \n",
      "14871            5                   1         1        2       -1  \n",
      "19719           11                   1         1        3       -1  \n",
      "19720           11                   1         1        3       -1  \n",
      "19721           11                   1         1        3       -1  \n",
      "19722           11                   1         1        3       -1  \n",
      "19723           11                   1         1        3       -1  \n",
      "19724           11                   1         1        3       -1  \n",
      "19725           11                   1         1        3       -1  \n",
      "19726           11                   1         1        3       -1  \n",
      "19727           11                   1         1        3       -1  \n",
      "19728           11                   1         1        3       -1  \n",
      "19729           11                   1         1        3       -1  \n",
      "19730           11                   1         1        3       -1  \n",
      "19731           11                   1         1        3       -1  \n",
      "19732           11                   1         1        3       -1  \n",
      "19733           11                   1         1        3       -1  \n",
      "19734           11                   1         1        3       -1  \n",
      "19735           11                   1         1        3       -1  \n",
      "19736           11                   1         1        3       -1  \n",
      "19737           11                   1         1        3       -1  \n",
      "19738           11                   1         1        3       -1  \n",
      "19739           11                   1         1        3       -1  \n"
     ]
    }
   ],
   "source": [
    "anomalies = matched_df[matched_df[\"anomaly\"] == -1]\n",
    "anomalies[[\"ent_num\", \"fuzz_ratio\", \"token_sort_ratio\", \"length_diff\", \"common_token_count\"]]\n",
    "\n",
    "print(anomalies)"
   ]
  },
  {
   "cell_type": "code",
   "execution_count": 8,
   "id": "8be097a1",
   "metadata": {},
   "outputs": [],
   "source": [
    "anomalies.to_csv(\"../data/high_risk_anomalies.csv\", index=False)\n",
    "matched_df.to_csv(\"../data/pattern_detection.csv\", index=False)\n"
   ]
  }
 ],
 "metadata": {
  "kernelspec": {
   "display_name": "venv",
   "language": "python",
   "name": "python3"
  },
  "language_info": {
   "codemirror_mode": {
    "name": "ipython",
    "version": 3
   },
   "file_extension": ".py",
   "mimetype": "text/x-python",
   "name": "python",
   "nbconvert_exporter": "python",
   "pygments_lexer": "ipython3",
   "version": "3.12.1"
  }
 },
 "nbformat": 4,
 "nbformat_minor": 5
}
