{
 "cells": [
  {
   "cell_type": "markdown",
   "id": "3c58245f",
   "metadata": {},
   "source": [
    "# Phase 6: Proactive Pattern Detection\n",
    ">_(Part of the Data Science lifecycle for uncovering high-risk clusters & anomalies)_\n",
    "\n",
    "#### **Objective:**\n",
    "Use **unsupervised learning** techniques to surface _hidden structure_, such as:\n",
    "* **Alias clusters** (e.g. same entity across alt names)\n",
    "* **Outlier behavior** (e.g. odd country associations)\n",
    "* **Potential identity masking** strategies\n",
    "#### **Signifance:**\n",
    "- Extend the model's reach from point-wise prediction to group-wise and behavioral detection - this is what powers **early warning systems** and **entity resolution pipelines** in financial compliance systems."
   ]
  },
  {
   "cell_type": "code",
   "execution_count": 1,
   "id": "40277631",
   "metadata": {},
   "outputs": [],
   "source": [
    "import pandas as pd\n",
    "import numpy as np\n",
    "import matplotlib.pyplot as plt\n",
    "import seaborn as sns\n",
    "\n",
    "from sklearn.preprocessing import StandardScaler\n",
    "from sklearn.cluster import DBSCAN\n",
    "from sklearn.ensemble import IsolationForest\n",
    "from sklearn.decomposition import PCA"
   ]
  },
  {
   "cell_type": "markdown",
   "id": "52c0f5fb",
   "metadata": {},
   "source": [
    "#### **Load & Prepare Features:**"
   ]
  },
  {
   "cell_type": "code",
   "execution_count": 3,
   "id": "37d95f6d",
   "metadata": {},
   "outputs": [
    {
     "name": "stdout",
     "output_type": "stream",
     "text": [
      "is_match\n",
      "1    3986\n",
      "Name: count, dtype: int64\n"
     ]
    }
   ],
   "source": [
    "df = pd.read_csv(\"../data/sanctions_features.csv\")\n",
    "df = df[df[\"fuzz_ratio_reference\"].notna()].copy()\n",
    "\n",
    "df[\"is_match\"] = ((df[\"fuzz_ratio\"] > 65) & (df[\"common_token_count\"] > 0)).astype(int)\n",
    "\n",
    "matched_df = df[df[\"is_match\"] == 1].copy()\n",
    "\n",
    "print(matched_df[\"is_match\"].value_counts())"
   ]
  },
  {
   "cell_type": "markdown",
   "id": "b8ca6b73",
   "metadata": {},
   "source": [
    "#### **Clustering for Alias Networks (DBSCAN):**\n",
    "\n",
    "Normalize Features"
   ]
  },
  {
   "cell_type": "code",
   "execution_count": 4,
   "id": "ba27cbad",
   "metadata": {},
   "outputs": [],
   "source": [
    "features = [\n",
    "    \"fuzz_ratio\", \n",
    "    \"token_sort_ratio\", \n",
    "    \"length_diff\", \n",
    "    \"common_token_count\", \n",
    "    \"prefix_match\", \n",
    "    \"word_count_1\", \n",
    "    \"word_count_2\"\n",
    "]\n",
    "X = StandardScaler().fit_transform(matched_df[features])"
   ]
  },
  {
   "cell_type": "markdown",
   "id": "15707829",
   "metadata": {},
   "source": [
    "Run DBSCAN"
   ]
  },
  {
   "cell_type": "code",
   "execution_count": 5,
   "id": "1e3e41ad",
   "metadata": {},
   "outputs": [],
   "source": [
    "db = DBSCAN(eps=0.3, min_samples=3).fit(X)\n",
    "matched_df[\"cluster\"] = db.labels_"
   ]
  },
  {
   "cell_type": "markdown",
   "id": "3859d24f",
   "metadata": {},
   "source": [
    "Visualize"
   ]
  },
  {
   "cell_type": "code",
   "execution_count": 6,
   "id": "7e5d8c0c",
   "metadata": {},
   "outputs": [
    {
     "name": "stderr",
     "output_type": "stream",
     "text": [
      "c:\\xampp\\htdocs\\data-engineering\\ofac-end-to-end-data-project\\sanction-risk-ml\\venv\\Lib\\site-packages\\sklearn\\decomposition\\_pca.py:648: RuntimeWarning: invalid value encountered in divide\n",
      "  explained_variance_ratio_ = explained_variance_ / total_var\n"
     ]
    },
    {
     "data": {
      "image/png": "[encoded data removed]",
      "text/plain": [
       "<Figure size 1000x600 with 1 Axes>"
      ]
     },
     "metadata": {},
     "output_type": "display_data"
    }
   ],
   "source": [
    "pca = PCA(n_components=2)\n",
    "X_pca = pca.fit_transform(X)\n",
    "\n",
    "plt.figure(figsize=(10, 6))\n",
    "sns.scatterplot(x=X_pca[:, 0], hue=matched_df[\"cluster\"], palette=\"tab10\")\n",
    "plt.title(\"Alias Clusters via DBSCAN\")\n",
    "plt.tight_layout()\n",
    "plt.grid(True)\n",
    "plt.show()"
   ]
  },
  {
   "cell_type": "markdown",
   "id": "00e4a5b3",
   "metadata": {},
   "source": [
    "#### **Outlier Detection (Isolation Forest):**\n",
    "\n",
    "Train & Predict"
   ]
  },
  {
   "cell_type": "code",
   "execution_count": 7,
   "id": "d4dde2fe",
   "metadata": {},
   "outputs": [],
   "source": [
    "anomaly_model = IsolationForest(contamination=0.01, random_state=42)\n",
    "anomaly_scores = anomaly_model.fit_predict(X)\n",
    "\n",
    "matched_df[\"anomaly\"] = anomaly_scores\n"
   ]
  },
  {
   "cell_type": "markdown",
   "id": "f674e2ad",
   "metadata": {},
   "source": [
    "Export high-risk"
   ]
  },
  {
   "cell_type": "code",
   "execution_count": 8,
   "id": "1bbac701",
   "metadata": {},
   "outputs": [
    {
     "name": "stdout",
     "output_type": "stream",
     "text": [
      "Series([], Name: count, dtype: int64)\n"
     ]
    }
   ],
   "source": [
    "anomalies = matched_df[matched_df[\"anomaly\"] == -1]\n",
    "anomalies[[\"fuzz_ratio\", \"token_sort_ratio\", \"length_diff\", \"common_token_count\"]]\n",
    "\n",
    "print(anomalies[\"anomaly\"].value_counts())"
   ]
  },
  {
   "cell_type": "code",
   "execution_count": 9,
   "id": "8be097a1",
   "metadata": {},
   "outputs": [],
   "source": [
    "anomalies.to_csv(\"../data/high_risk_anomalies.csv\", index=False)\n",
    "matched_df.to_csv(\"../data/pattern_detection.csv\", index=False)\n"
   ]
  }
 ],
 "metadata": {
  "kernelspec": {
   "display_name": "venv",
   "language": "python",
   "name": "python3"
  },
  "language_info": {
   "codemirror_mode": {
    "name": "ipython",
    "version": 3
   },
   "file_extension": ".py",
   "mimetype": "text/x-python",
   "name": "python",
   "nbconvert_exporter": "python",
   "pygments_lexer": "ipython3",
   "version": "3.12.1"
  }
 },
 "nbformat": 4,
 "nbformat_minor": 5
}
