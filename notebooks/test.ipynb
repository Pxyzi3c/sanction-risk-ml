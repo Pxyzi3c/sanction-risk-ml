{
 "cells": [
  {
   "cell_type": "code",
   "execution_count": 1,
   "id": "0c4d3463",
   "metadata": {},
   "outputs": [],
   "source": [
    "import numpy as np\n",
    "import pandas as pd\n",
    "import os"
   ]
  },
  {
   "cell_type": "code",
   "execution_count": 2,
   "id": "d170c7a7",
   "metadata": {},
   "outputs": [],
   "source": [
    "base_path = \"/kaggle/input/potato-disease-detection-dataset/train\"\n",
    "categories = [\"Potato___Early_blight\", \"Potato___Late_blight\", \"Potato___healthy\"]\n",
    "\n",
    "image_paths = []\n",
    "labels = []"
   ]
  },
  {
   "cell_type": "markdown",
   "id": "81450aea",
   "metadata": {},
   "source": []
  },
  {
   "cell_type": "code",
   "execution_count": 3,
   "id": "c47c60ff",
   "metadata": {},
   "outputs": [
    {
     "ename": "FileNotFoundError",
     "evalue": "[WinError 3] The system cannot find the path specified: '/kaggle/input/potato-disease-detection-dataset/train\\\\Potato___Early_blight'",
     "output_type": "error",
     "traceback": [
      "\u001b[31m---------------------------------------------------------------------------\u001b[39m",
      "\u001b[31mFileNotFoundError\u001b[39m                         Traceback (most recent call last)",
      "\u001b[36mCell\u001b[39m\u001b[36m \u001b[39m\u001b[32mIn[3]\u001b[39m\u001b[32m, line 3\u001b[39m\n\u001b[32m      1\u001b[39m \u001b[38;5;28;01mfor\u001b[39;00m category \u001b[38;5;129;01min\u001b[39;00m categories:\n\u001b[32m      2\u001b[39m     category_path = os.path.join(base_path, category)\n\u001b[32m----> \u001b[39m\u001b[32m3\u001b[39m     \u001b[38;5;28;01mfor\u001b[39;00m image_name \u001b[38;5;129;01min\u001b[39;00m \u001b[43mos\u001b[49m\u001b[43m.\u001b[49m\u001b[43mlistdir\u001b[49m\u001b[43m(\u001b[49m\u001b[43mcategory_path\u001b[49m\u001b[43m)\u001b[49m:\n\u001b[32m      4\u001b[39m         image_path = os.path.join(category_path, image_name)\n\u001b[32m      5\u001b[39m         image_paths.append(image_path)\n",
      "\u001b[31mFileNotFoundError\u001b[39m: [WinError 3] The system cannot find the path specified: '/kaggle/input/potato-disease-detection-dataset/train\\\\Potato___Early_blight'"
     ]
    }
   ],
   "source": [
    "for category in categories:\n",
    "    category_path = os.path.join(base_path, category)\n",
    "    for image_name in os.listdir(category_path):\n",
    "        image_path = os.path.join(category_path, image_name)\n",
    "        image_paths.append(image_path)\n",
    "        labels.append(category)\n",
    "\n",
    "df = pd.DataFrame({\n",
    "    \"image_path\": image_paths,\n",
    "    \"label\": labels\n",
    "})\n",
    "\n",
    "df.head()"
   ]
  },
  {
   "cell_type": "code",
   "execution_count": null,
   "id": "abc3a58b",
   "metadata": {},
   "outputs": [],
   "source": []
  }
 ],
 "metadata": {
  "kernelspec": {
   "display_name": "venv",
   "language": "python",
   "name": "python3"
  },
  "language_info": {
   "codemirror_mode": {
    "name": "ipython",
    "version": 3
   },
   "file_extension": ".py",
   "mimetype": "text/x-python",
   "name": "python",
   "nbconvert_exporter": "python",
   "pygments_lexer": "ipython3",
   "version": "3.12.1"
  }
 },
 "nbformat": 4,
 "nbformat_minor": 5
}
